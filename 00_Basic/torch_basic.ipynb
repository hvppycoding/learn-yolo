{
 "cells": [
  {
   "cell_type": "code",
   "execution_count": 8,
   "id": "6ff43dd7",
   "metadata": {},
   "outputs": [],
   "source": [
    "import torch"
   ]
  },
  {
   "cell_type": "code",
   "execution_count": 17,
   "id": "82b6c72b",
   "metadata": {},
   "outputs": [],
   "source": [
    "x = torch.randint(0, 10, (2, 3, 4))"
   ]
  },
  {
   "cell_type": "code",
   "execution_count": 18,
   "id": "e573e3d3",
   "metadata": {},
   "outputs": [
    {
     "data": {
      "text/plain": [
       "tensor([[[9, 8, 6, 9],\n",
       "         [8, 0, 1, 1],\n",
       "         [0, 5, 5, 0]],\n",
       "\n",
       "        [[7, 2, 4, 2],\n",
       "         [1, 0, 1, 5],\n",
       "         [2, 9, 1, 7]]])"
      ]
     },
     "execution_count": 18,
     "metadata": {},
     "output_type": "execute_result"
    }
   ],
   "source": [
    "x"
   ]
  },
  {
   "cell_type": "code",
   "execution_count": 19,
   "id": "ccf6da41",
   "metadata": {},
   "outputs": [],
   "source": [
    "y = x.view(2, -1)"
   ]
  },
  {
   "cell_type": "code",
   "execution_count": 20,
   "id": "9a9c5624",
   "metadata": {},
   "outputs": [
    {
     "data": {
      "text/plain": [
       "tensor([[9, 8, 6, 9, 8, 0, 1, 1, 0, 5, 5, 0],\n",
       "        [7, 2, 4, 2, 1, 0, 1, 5, 2, 9, 1, 7]])"
      ]
     },
     "execution_count": 20,
     "metadata": {},
     "output_type": "execute_result"
    }
   ],
   "source": [
    "y"
   ]
  },
  {
   "cell_type": "code",
   "execution_count": 21,
   "id": "24958630",
   "metadata": {},
   "outputs": [],
   "source": [
    "z = y.unsqueeze(0)"
   ]
  },
  {
   "cell_type": "code",
   "execution_count": 22,
   "id": "6171b4d8",
   "metadata": {},
   "outputs": [
    {
     "data": {
      "text/plain": [
       "tensor([[[9, 8, 6, 9, 8, 0, 1, 1, 0, 5, 5, 0],\n",
       "         [7, 2, 4, 2, 1, 0, 1, 5, 2, 9, 1, 7]]])"
      ]
     },
     "execution_count": 22,
     "metadata": {},
     "output_type": "execute_result"
    }
   ],
   "source": [
    "z"
   ]
  },
  {
   "cell_type": "code",
   "execution_count": 27,
   "id": "6ba25b57",
   "metadata": {},
   "outputs": [
    {
     "data": {
      "text/plain": [
       "tensor([[9, 8, 6, 9, 8, 0, 1, 1, 0, 5, 5, 0],\n",
       "        [7, 2, 4, 2, 1, 0, 1, 5, 2, 9, 1, 7]])"
      ]
     },
     "execution_count": 27,
     "metadata": {},
     "output_type": "execute_result"
    }
   ],
   "source": [
    "z.squeeze(0)"
   ]
  },
  {
   "cell_type": "code",
   "execution_count": 28,
   "id": "49b50f66",
   "metadata": {},
   "outputs": [],
   "source": [
    "x = torch.randint(10, (3, 4, 2))"
   ]
  },
  {
   "cell_type": "code",
   "execution_count": 29,
   "id": "b09d5530",
   "metadata": {},
   "outputs": [
    {
     "data": {
      "text/plain": [
       "tensor([[[6, 8],\n",
       "         [9, 1],\n",
       "         [2, 9],\n",
       "         [5, 1]],\n",
       "\n",
       "        [[7, 9],\n",
       "         [1, 7],\n",
       "         [6, 4],\n",
       "         [6, 7]],\n",
       "\n",
       "        [[7, 3],\n",
       "         [2, 0],\n",
       "         [8, 0],\n",
       "         [4, 4]]])"
      ]
     },
     "execution_count": 29,
     "metadata": {},
     "output_type": "execute_result"
    }
   ],
   "source": [
    "x"
   ]
  },
  {
   "cell_type": "code",
   "execution_count": 36,
   "id": "8481825d",
   "metadata": {},
   "outputs": [],
   "source": [
    "y = torch.max(x, dim=0)"
   ]
  },
  {
   "cell_type": "code",
   "execution_count": 37,
   "id": "acfc2c85",
   "metadata": {},
   "outputs": [
    {
     "data": {
      "text/plain": [
       "torch.return_types.max(\n",
       "values=tensor([[7, 9],\n",
       "        [9, 7],\n",
       "        [8, 9],\n",
       "        [6, 7]]),\n",
       "indices=tensor([[1, 1],\n",
       "        [0, 1],\n",
       "        [2, 0],\n",
       "        [1, 1]]))"
      ]
     },
     "execution_count": 37,
     "metadata": {},
     "output_type": "execute_result"
    }
   ],
   "source": [
    "y"
   ]
  },
  {
   "cell_type": "code",
   "execution_count": 38,
   "id": "1381bf3c",
   "metadata": {},
   "outputs": [],
   "source": [
    "z = torch.max(x, dim=1)"
   ]
  },
  {
   "cell_type": "code",
   "execution_count": 39,
   "id": "63a8f512",
   "metadata": {},
   "outputs": [
    {
     "data": {
      "text/plain": [
       "torch.return_types.max(\n",
       "values=tensor([[9, 9],\n",
       "        [7, 9],\n",
       "        [8, 4]]),\n",
       "indices=tensor([[1, 2],\n",
       "        [0, 0],\n",
       "        [2, 3]]))"
      ]
     },
     "execution_count": 39,
     "metadata": {},
     "output_type": "execute_result"
    }
   ],
   "source": [
    "z"
   ]
  },
  {
   "cell_type": "code",
   "execution_count": null,
   "id": "4ced0068",
   "metadata": {},
   "outputs": [],
   "source": []
  }
 ],
 "metadata": {
  "kernelspec": {
   "display_name": "Python 3 (ipykernel)",
   "language": "python",
   "name": "python3"
  },
  "language_info": {
   "codemirror_mode": {
    "name": "ipython",
    "version": 3
   },
   "file_extension": ".py",
   "mimetype": "text/x-python",
   "name": "python",
   "nbconvert_exporter": "python",
   "pygments_lexer": "ipython3",
   "version": "3.9.13"
  }
 },
 "nbformat": 4,
 "nbformat_minor": 5
}
